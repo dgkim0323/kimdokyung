{
  "nbformat": 4,
  "nbformat_minor": 0,
  "metadata": {
    "colab": {
      "name": "Untitled9.ipynb",
      "provenance": [],
      "collapsed_sections": [],
      "authorship_tag": "ABX9TyP/L0c2zgTyHUuTQirX4pIG",
      "include_colab_link": true
    },
    "kernelspec": {
      "name": "python3",
      "display_name": "Python 3"
    },
    "language_info": {
      "name": "python"
    }
  },
  "cells": [
    {
      "cell_type": "markdown",
      "metadata": {
        "id": "view-in-github",
        "colab_type": "text"
      },
      "source": [
        "<a href=\"https://colab.research.google.com/github/dgkim0323/kimdokyung/blob/main/Untitled9.ipynb\" target=\"_parent\"><img src=\"https://colab.research.google.com/assets/colab-badge.svg\" alt=\"Open In Colab\"/></a>"
      ]
    },
    {
      "cell_type": "code",
      "metadata": {
        "id": "AY92XwMAPMSS"
      },
      "source": [
        "(a1,a2),(b1,b2)=[([3,4],[30,40]),([6,7],[60,70])]\n",
        "print(a1,a2,b1,b2)\n",
        "type(a1)\n",
        "\n",
        "import tensorflow as tf\n",
        "from tensorflow import keras\n",
        "import numpy as np\n",
        "import matplotlib.pyplot as plt\n",
        "\n",
        "fashion_mnist=keras.datasets.fashion_mnist\n",
        "print(dir(fashion_mnist))\n",
        "(train_images, train_labels),(test_images, test_labels)=fashion_mnist.load_data()\n",
        "\n",
        "train_images.shape\n",
        "train_labels.shape\n",
        "train_images[0].shape\n",
        "test_labels.shape\n",
        "train_labels[:5]\n",
        "np.set_printoptions(linewidth=150)\n",
        "train_images[0]\n",
        "class_names=['T-shirts/top','Trowser','Pullover','Dress','Coat','Sandal','Shirt','Sweater','Bag','Ankle boot']\n",
        "print(train_labels[0])\n",
        "class_names[train_labels[0]]\n",
        "plt.imshow(train_images[0])\n",
        "plt.show()\n",
        "fig=plt.figure()\n",
        "ax1=fig.add_subplot(1,3,1)\n",
        "ax2=fig.add_subplot(1,3,2)\n",
        "ax3=fig.add_subplot(1,3,3)\n",
        "ax1.imshow(train_images[0])\n",
        "ax2.imshow(train_images[1])\n",
        "ax3.imshow(train_images[2])\n",
        "plt.show()\n",
        "\n",
        "model=keras.Sequential([\n",
        "    keras.layers.Flatten(input_shape=(28,28)),\n",
        "    keras.layers.Dense(128,activation='relu'),\n",
        "    keras.layers.Dense(10,activation='softmax')\n",
        "])\n",
        "\n",
        "model.compile(optimizer='adam',\n",
        "              loss='sparse_categorical_crossentropy',\n",
        "              metrics=['accuracy'])\n",
        "\n",
        "model.fit(train_images,train_labels,epochs=5)\n",
        "test_loss, test_acc = model.evaluate(test_images,test_labels,verbose=2)\n",
        "print(\"\\n 테스트 : \",test_acc)\n",
        "\n",
        "img=test_images[33]\n",
        "label=test_labels[33]\n",
        "img.shape\n",
        "plt.imshow(test_images[33])\n",
        "img1=np.around(test_images[33]/225,1)\n",
        "img1\n",
        "img=np.expand_dims(img,axis=0)\n",
        "img.shape\n",
        "img\n",
        "test_images.shape\n",
        "predic=model.predict(img)\n",
        "print(predic)\n",
        "print(np.argmax(predic))\n",
        "print(class_names[np.argmax(predic)])\n",
        "import numpy as np\n",
        "randldx=np.random.randint(0,1000)\n",
        "plt.imshow(test_images[randldx])\n",
        "yhat=model.predict(test_images[randldx][np.newaxis,:,:])\n",
        "print(yhat)\n",
        "yhat=np.argmax(yhat)\n",
        "print(yhat)"
      ],
      "execution_count": null,
      "outputs": []
    }
  ]
}